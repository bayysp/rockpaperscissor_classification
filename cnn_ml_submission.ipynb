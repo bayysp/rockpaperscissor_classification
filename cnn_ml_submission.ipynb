{
  "nbformat": 4,
  "nbformat_minor": 0,
  "metadata": {
    "colab": {
      "name": "cnn-ml-submission.ipynb",
      "provenance": [],
      "toc_visible": true,
      "authorship_tag": "ABX9TyOga1oE//oazDWLkiLQ7Nb5",
      "include_colab_link": true
    },
    "kernelspec": {
      "name": "python3",
      "display_name": "Python 3"
    },
    "accelerator": "GPU"
  },
  "cells": [
    {
      "cell_type": "markdown",
      "metadata": {
        "id": "view-in-github",
        "colab_type": "text"
      },
      "source": [
        "<a href=\"https://colab.research.google.com/github/bayysp/rockpaperscissor_classification/blob/master/cnn_ml_submission.ipynb\" target=\"_parent\"><img src=\"https://colab.research.google.com/assets/colab-badge.svg\" alt=\"Open In Colab\"/></a>"
      ]
    },
    {
      "cell_type": "code",
      "metadata": {
        "id": "QciZ3IYC43GJ",
        "colab_type": "code",
        "outputId": "6dd67cea-7980-470e-cd18-1ea5515b8ab6",
        "colab": {
          "base_uri": "https://localhost:8080/",
          "height": 228
        }
      },
      "source": [
        "# !wget --no-check-certificate \\\n",
        "#   https://dicodingacademy.blob.core.windows.net/picodiploma/ml_pemula_academy/rockpaperscissors.zip \\\n",
        "#   -O /tmp/rockpaperscissors.zip"
      ],
      "execution_count": 26,
      "outputs": [
        {
          "output_type": "stream",
          "text": [
            "--2020-05-10 20:09:29--  https://dicodingacademy.blob.core.windows.net/picodiploma/ml_pemula_academy/rockpaperscissors.zip\n",
            "Resolving dicodingacademy.blob.core.windows.net (dicodingacademy.blob.core.windows.net)... 52.239.197.36\n",
            "Connecting to dicodingacademy.blob.core.windows.net (dicodingacademy.blob.core.windows.net)|52.239.197.36|:443... connected.\n",
            "HTTP request sent, awaiting response... 200 OK\n",
            "Length: 322873683 (308M) [application/zip]\n",
            "Saving to: ‘/tmp/rockpaperscissors.zip’\n",
            "\n",
            "/tmp/rockpapersciss 100%[===================>] 307.92M  5.78MB/s    in 69s     \n",
            "\n",
            "2020-05-10 20:10:39 (4.49 MB/s) - ‘/tmp/rockpaperscissors.zip’ saved [322873683/322873683]\n",
            "\n"
          ],
          "name": "stdout"
        }
      ]
    },
    {
      "cell_type": "code",
      "metadata": {
        "id": "LgOGzh7FBa7O",
        "colab_type": "code",
        "colab": {}
      },
      "source": [
        "#do extraction to datasets zip file\n",
        "import zipfile, os\n",
        "local_zip = '/tmp/rockpaperscissors.zip'\n",
        "zip_reference = zipfile.ZipFile(local_zip,'r')\n",
        "zip_reference.extractall('/tmp')\n",
        "zip_reference.close()\n",
        "\n",
        "base_dir = '/tmp/rockpaperscissors'\n",
        "train_dir = os.path.join(base_dir, 'train')\n",
        "validation_dir = os.path.join(base_dir, 'val')"
      ],
      "execution_count": 0,
      "outputs": []
    },
    {
      "cell_type": "code",
      "metadata": {
        "id": "HSrFNxfwEtNF",
        "colab_type": "code",
        "outputId": "14273646-f7c7-4b4a-da0f-8a215b4f4d7e",
        "colab": {
          "base_uri": "https://localhost:8080/",
          "height": 35
        }
      },
      "source": [
        "os.listdir('/tmp/rockpaperscissors')"
      ],
      "execution_count": 28,
      "outputs": [
        {
          "output_type": "execute_result",
          "data": {
            "text/plain": [
              "['rock', 'scissors', 'paper', 'README_rpc-cv-images.txt', 'rps-cv-images']"
            ]
          },
          "metadata": {
            "tags": []
          },
          "execution_count": 28
        }
      ]
    },
    {
      "cell_type": "code",
      "metadata": {
        "id": "vESJ9cTbGI4r",
        "colab_type": "code",
        "colab": {}
      },
      "source": [
        "#create function to remove unused directory and unused  file\n",
        "import shutil\n",
        "def remove_unused_directory(base_dir,directory_name):\n",
        "  shutil.rmtree(os.path.join(base_dir+directory_name))\n",
        "\n",
        "def remove_unused_file(base_dir,file_name):\n",
        "  os.remove(os.path.join(base_dir,file_name))"
      ],
      "execution_count": 0,
      "outputs": []
    },
    {
      "cell_type": "code",
      "metadata": {
        "id": "C7fJ-uI-KbzL",
        "colab_type": "code",
        "colab": {}
      },
      "source": [
        "#remove unused directory\n",
        "remove_unused_directory(base_dir,'/rps-cv-images')"
      ],
      "execution_count": 0,
      "outputs": []
    },
    {
      "cell_type": "code",
      "metadata": {
        "id": "-PGYijNqLZ_N",
        "colab_type": "code",
        "colab": {}
      },
      "source": [
        "#remove unused file\n",
        "remove_unused_file(base_dir,'README_rpc-cv-images.txt')"
      ],
      "execution_count": 0,
      "outputs": []
    },
    {
      "cell_type": "code",
      "metadata": {
        "id": "a53c2M6ILdQo",
        "colab_type": "code",
        "colab": {}
      },
      "source": [
        "#create function to make data balance\n",
        "def delete_file(file_length,file_name,directory):\n",
        "  for i in range(file_length):\n",
        "    if i > 710:\n",
        "      os.remove(os.path.join(directory, file_name[i]))"
      ],
      "execution_count": 0,
      "outputs": []
    },
    {
      "cell_type": "code",
      "metadata": {
        "id": "Rwp9usXWMLGz",
        "colab_type": "code",
        "colab": {
          "base_uri": "https://localhost:8080/",
          "height": 69
        },
        "outputId": "98de174c-e92f-493d-c4f6-d88dc4af628e"
      },
      "source": [
        "#remove file to make data balance\n",
        "rock_dir = os.path.join('/tmp/rockpaperscissors/rock')\n",
        "paper_dir = os.path.join('/tmp/rockpaperscissors/paper')\n",
        "scissors_dir = os.path.join('/tmp/rockpaperscissors/scissors')\n",
        "\n",
        "rock_img = os.listdir(rock_dir)\n",
        "paper_img = os.listdir(paper_dir)\n",
        "scissors_img = os.listdir(scissors_dir)\n",
        "\n",
        "delete_file(len(os.listdir(rock_dir)), rock_img, rock_dir)\n",
        "delete_file(len(os.listdir(paper_dir)), paper_img, paper_dir)\n",
        "delete_file(len(os.listdir(scissors_dir)), scissors_img, scissors_dir)\n",
        "\n",
        "print('total of rock images : ', len(os.listdir(rock_dir)))\n",
        "print('total of paper images : ', len(os.listdir(paper_dir)))\n",
        "print('total of scissors images : ', len(os.listdir(scissors_dir)))"
      ],
      "execution_count": 41,
      "outputs": [
        {
          "output_type": "stream",
          "text": [
            "total of rock images :  711\n",
            "total of paper images :  711\n",
            "total of scissors images :  711\n"
          ],
          "name": "stdout"
        }
      ]
    },
    {
      "cell_type": "code",
      "metadata": {
        "id": "GS9nuwcsM00Z",
        "colab_type": "code",
        "colab": {
          "base_uri": "https://localhost:8080/",
          "height": 35
        },
        "outputId": "a5ff0e4c-16e5-48b1-ea8e-7cfc4f67fd8a"
      },
      "source": [
        "os.listdir('/tmp/rockpaperscissors/')"
      ],
      "execution_count": 42,
      "outputs": [
        {
          "output_type": "execute_result",
          "data": {
            "text/plain": [
              "['rock', 'scissors', 'paper']"
            ]
          },
          "metadata": {
            "tags": []
          },
          "execution_count": 42
        }
      ]
    }
  ]
}