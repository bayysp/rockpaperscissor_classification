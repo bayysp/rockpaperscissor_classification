{
  "nbformat": 4,
  "nbformat_minor": 0,
  "metadata": {
    "colab": {
      "name": "cnn-ml-submission.ipynb",
      "provenance": [],
      "toc_visible": true,
      "authorship_tag": "ABX9TyPP6AeSkuYOOGsx7hMh1c6w",
      "include_colab_link": true
    },
    "kernelspec": {
      "name": "python3",
      "display_name": "Python 3"
    },
    "accelerator": "GPU"
  },
  "cells": [
    {
      "cell_type": "markdown",
      "metadata": {
        "id": "view-in-github",
        "colab_type": "text"
      },
      "source": [
        "<a href=\"https://colab.research.google.com/github/bayysp/rockpaperscissor_classification/blob/master/cnn_ml_submission.ipynb\" target=\"_parent\"><img src=\"https://colab.research.google.com/assets/colab-badge.svg\" alt=\"Open In Colab\"/></a>"
      ]
    },
    {
      "cell_type": "code",
      "metadata": {
        "id": "QciZ3IYC43GJ",
        "colab_type": "code",
        "outputId": "6dd67cea-7980-470e-cd18-1ea5515b8ab6",
        "colab": {
          "base_uri": "https://localhost:8080/",
          "height": 228
        }
      },
      "source": [
        "# !wget --no-check-certificate \\\n",
        "#   https://dicodingacademy.blob.core.windows.net/picodiploma/ml_pemula_academy/rockpaperscissors.zip \\\n",
        "#   -O /tmp/rockpaperscissors.zip"
      ],
      "execution_count": 26,
      "outputs": [
        {
          "output_type": "stream",
          "text": [
            "--2020-05-10 20:09:29--  https://dicodingacademy.blob.core.windows.net/picodiploma/ml_pemula_academy/rockpaperscissors.zip\n",
            "Resolving dicodingacademy.blob.core.windows.net (dicodingacademy.blob.core.windows.net)... 52.239.197.36\n",
            "Connecting to dicodingacademy.blob.core.windows.net (dicodingacademy.blob.core.windows.net)|52.239.197.36|:443... connected.\n",
            "HTTP request sent, awaiting response... 200 OK\n",
            "Length: 322873683 (308M) [application/zip]\n",
            "Saving to: ‘/tmp/rockpaperscissors.zip’\n",
            "\n",
            "/tmp/rockpapersciss 100%[===================>] 307.92M  5.78MB/s    in 69s     \n",
            "\n",
            "2020-05-10 20:10:39 (4.49 MB/s) - ‘/tmp/rockpaperscissors.zip’ saved [322873683/322873683]\n",
            "\n"
          ],
          "name": "stdout"
        }
      ]
    },
    {
      "cell_type": "code",
      "metadata": {
        "id": "LgOGzh7FBa7O",
        "colab_type": "code",
        "colab": {}
      },
      "source": [
        "#do extraction to datasets zip file\n",
        "import zipfile, os\n",
        "local_zip = '/tmp/rockpaperscissors.zip'\n",
        "zip_reference = zipfile.ZipFile(local_zip,'r')\n",
        "zip_reference.extractall('/tmp')\n",
        "zip_reference.close()\n",
        "\n",
        "base_dir = '/tmp/rockpaperscissors'\n",
        "train_dir = os.path.join(base_dir, 'train')\n",
        "validation_dir = os.path.join(base_dir, 'val')"
      ],
      "execution_count": 0,
      "outputs": []
    },
    {
      "cell_type": "code",
      "metadata": {
        "id": "HSrFNxfwEtNF",
        "colab_type": "code",
        "outputId": "14273646-f7c7-4b4a-da0f-8a215b4f4d7e",
        "colab": {
          "base_uri": "https://localhost:8080/",
          "height": 35
        }
      },
      "source": [
        "os.listdir('/tmp/rockpaperscissors')"
      ],
      "execution_count": 28,
      "outputs": [
        {
          "output_type": "execute_result",
          "data": {
            "text/plain": [
              "['rock', 'scissors', 'paper', 'README_rpc-cv-images.txt', 'rps-cv-images']"
            ]
          },
          "metadata": {
            "tags": []
          },
          "execution_count": 28
        }
      ]
    },
    {
      "cell_type": "code",
      "metadata": {
        "id": "vESJ9cTbGI4r",
        "colab_type": "code",
        "colab": {}
      },
      "source": [
        "#create function to remove unused directory and unused  file\n",
        "import shutil\n",
        "def remove_unused_directory(base_dir,directory_name):\n",
        "  shutil.rmtree(os.path.join(base_dir+directory_name))\n",
        "\n",
        "def remove_unused_file(base_dir,file_name):\n",
        "  os.remove(os.path.join(base_dir,file_name))"
      ],
      "execution_count": 0,
      "outputs": []
    },
    {
      "cell_type": "code",
      "metadata": {
        "id": "C7fJ-uI-KbzL",
        "colab_type": "code",
        "colab": {}
      },
      "source": [
        "#remove unused directory\n",
        "remove_unused_directory(base_dir,'/rps-cv-images')"
      ],
      "execution_count": 0,
      "outputs": []
    },
    {
      "cell_type": "code",
      "metadata": {
        "id": "-PGYijNqLZ_N",
        "colab_type": "code",
        "colab": {}
      },
      "source": [
        "#remove unused file\n",
        "remove_unused_file(base_dir,'README_rpc-cv-images.txt')"
      ],
      "execution_count": 0,
      "outputs": []
    },
    {
      "cell_type": "code",
      "metadata": {
        "id": "a53c2M6ILdQo",
        "colab_type": "code",
        "colab": {}
      },
      "source": [
        "#create function to make data balance\n",
        "def delete_file(file_length,file_name,directory):\n",
        "  for i in range(file_length):\n",
        "    if i > 710:\n",
        "      os.remove(os.path.join(directory, file_name[i]))"
      ],
      "execution_count": 0,
      "outputs": []
    },
    {
      "cell_type": "code",
      "metadata": {
        "id": "Rwp9usXWMLGz",
        "colab_type": "code",
        "colab": {
          "base_uri": "https://localhost:8080/",
          "height": 69
        },
        "outputId": "98de174c-e92f-493d-c4f6-d88dc4af628e"
      },
      "source": [
        "#remove file to make data balance\n",
        "rock_dir = os.path.join('/tmp/rockpaperscissors/rock')\n",
        "paper_dir = os.path.join('/tmp/rockpaperscissors/paper')\n",
        "scissors_dir = os.path.join('/tmp/rockpaperscissors/scissors')\n",
        "\n",
        "rock_img = os.listdir(rock_dir)\n",
        "paper_img = os.listdir(paper_dir)\n",
        "scissors_img = os.listdir(scissors_dir)\n",
        "\n",
        "delete_file(len(os.listdir(rock_dir)), rock_img, rock_dir)\n",
        "delete_file(len(os.listdir(paper_dir)), paper_img, paper_dir)\n",
        "delete_file(len(os.listdir(scissors_dir)), scissors_img, scissors_dir)\n",
        "\n",
        "print('total of rock images : ', len(os.listdir(rock_dir)))\n",
        "print('total of paper images : ', len(os.listdir(paper_dir)))\n",
        "print('total of scissors images : ', len(os.listdir(scissors_dir)))"
      ],
      "execution_count": 41,
      "outputs": [
        {
          "output_type": "stream",
          "text": [
            "total of rock images :  711\n",
            "total of paper images :  711\n",
            "total of scissors images :  711\n"
          ],
          "name": "stdout"
        }
      ]
    },
    {
      "cell_type": "code",
      "metadata": {
        "id": "GS9nuwcsM00Z",
        "colab_type": "code",
        "colab": {
          "base_uri": "https://localhost:8080/",
          "height": 35
        },
        "outputId": "ca074a40-2688-48e6-962f-e301ddeffaac"
      },
      "source": [
        "os.listdir('/tmp/rockpaperscissors/')"
      ],
      "execution_count": 46,
      "outputs": [
        {
          "output_type": "execute_result",
          "data": {
            "text/plain": [
              "['rock', 'scissors', 'paper']"
            ]
          },
          "metadata": {
            "tags": []
          },
          "execution_count": 46
        }
      ]
    },
    {
      "cell_type": "code",
      "metadata": {
        "id": "9384TmdsULKB",
        "colab_type": "code",
        "colab": {},
        "cellView": "code"
      },
      "source": [
        "#@title Default title text\n",
        "#make a train and validation folder and move the files\n",
        "\n",
        "parent_dir = '/tmp/rockpaperscissors/'\n",
        "\n",
        "train_dir = 'train'\n",
        "validation_dir = 'val'"
      ],
      "execution_count": 0,
      "outputs": []
    },
    {
      "cell_type": "code",
      "metadata": {
        "id": "0JJqzIV7kXrb",
        "colab_type": "code",
        "colab": {}
      },
      "source": [
        "#create train directory\n",
        "train_path = os.path.join(parent_dir,train_dir)\n",
        "os.mkdir(train_path)\n",
        "print(\"directory '% s' created\" % train_dir)"
      ],
      "execution_count": 0,
      "outputs": []
    },
    {
      "cell_type": "code",
      "metadata": {
        "id": "0_VcTOYAkdI7",
        "colab_type": "code",
        "colab": {
          "base_uri": "https://localhost:8080/",
          "height": 35
        },
        "outputId": "e007f828-6cdc-4abd-adf4-ede7b0b3342a"
      },
      "source": [
        "#create validation directory\n",
        "val_path = os.path.join(parent_dir,validation_dir)\n",
        "os.mkdir(val_path)\n",
        "print(\"directory '% s' created\" % validation_dir)"
      ],
      "execution_count": 58,
      "outputs": [
        {
          "output_type": "stream",
          "text": [
            "directory 'val' created\n"
          ],
          "name": "stdout"
        }
      ]
    },
    {
      "cell_type": "code",
      "metadata": {
        "id": "EbDx4bbViWVC",
        "colab_type": "code",
        "colab": {}
      },
      "source": [
        "#create rock paper and scissors directory on train folder\n",
        "os.mkdir(os.path.join(parent_dir,'train/rock'))\n",
        "os.mkdir(os.path.join(parent_dir,'train/paper'))\n",
        "os.mkdir(os.path.join(parent_dir,'train/scissors'))\n",
        "\n",
        "print(\"directory rock paper scissors created\")"
      ],
      "execution_count": 0,
      "outputs": []
    },
    {
      "cell_type": "code",
      "metadata": {
        "id": "I6JShZwNmxZE",
        "colab_type": "code",
        "colab": {}
      },
      "source": [
        "#create rock paper and scissors directory on val folder\n",
        "os.mkdir(os.path.join(parent_dir,'val/rock'))\n",
        "os.mkdir(os.path.join(parent_dir,'val/paper'))\n",
        "os.mkdir(os.path.join(parent_dir,'val/scissors'))\n",
        "\n",
        "print(\"directory rock paper scissors created\")"
      ],
      "execution_count": 0,
      "outputs": []
    },
    {
      "cell_type": "code",
      "metadata": {
        "id": "RZW2mxETufZr",
        "colab_type": "code",
        "colab": {
          "base_uri": "https://localhost:8080/",
          "height": 69
        },
        "outputId": "e6837f54-6512-42db-d4d7-d38180708881"
      },
      "source": [
        "#create function to move file into new directory (train and val)\n",
        "def move_files_to_val():\n",
        "  for i in range(0,72):\n",
        "    try:\n",
        "      shutil.move(parent_dir+'rock/'+rock_img[i],'/tmp/rockpaperscissors/val/rock')\n",
        "      shutil.move(parent_dir+'paper/'+paper_img[i],'/tmp/rockpaperscissors/val/paper')\n",
        "      shutil.move(parent_dir+'scissors/'+scissor_img[i],'/tmp/rockpaperscissors/val/scissors')\n",
        "    except Exception as ex:\n",
        "      print(ex)\n",
        "\n",
        "# move_files_to_val()\n",
        "\n",
        "print('total of rock images on val directory : ', len(os.listdir('/tmp/rockpaperscissors/val/rock')))\n",
        "print('total of paper images on val directory : ', len(os.listdir('/tmp/rockpaperscissors/val/paper')))\n",
        "print('total of scissors images on val directory : ', len(os.listdir('/tmp/rockpaperscissors/val/scissors')))"
      ],
      "execution_count": 88,
      "outputs": [
        {
          "output_type": "stream",
          "text": [
            "total of rock images on val directory :  72\n",
            "total of paper images on val directory :  72\n",
            "total of scissors images on val directory :  72\n"
          ],
          "name": "stdout"
        }
      ]
    },
    {
      "cell_type": "code",
      "metadata": {
        "id": "KF98r69j1TpZ",
        "colab_type": "code",
        "colab": {
          "base_uri": "https://localhost:8080/",
          "height": 69
        },
        "outputId": "dcf5b52d-be99-417b-aabb-fc10e666057f"
      },
      "source": [
        "#create function to move file into new directory (train and val)\n",
        "def move_files_to_train():\n",
        "  for i in range(0,len(rock_img)):\n",
        "    try:\n",
        "      shutil.move(parent_dir+'rock/'+rock_img[i],'/tmp/rockpaperscissors/train/rock')\n",
        "    except Exception as ex:\n",
        "      print(ex)\n",
        "\n",
        "  for i in range(0,len(paper_img)):\n",
        "    try:\n",
        "      shutil.move(parent_dir+'paper/'+paper_img[i],'/tmp/rockpaperscissors/train/paper')\n",
        "    except Exception as ex:\n",
        "      print(ex)\n",
        "\n",
        "  for i in range(0,len(scissor_img)):\n",
        "    try:\n",
        "      shutil.move(parent_dir+'scissors/'+scissor_img[i],'/tmp/rockpaperscissors/train/scissors')\n",
        "    except Exception as ex:\n",
        "      print(ex)\n",
        "\n",
        "# move_files_to_train()\n",
        "\n",
        "print('total of rock images on train directory : ', len(os.listdir('/tmp/rockpaperscissors/train/rock')))\n",
        "print('total of paper images on train directory : ', len(os.listdir('/tmp/rockpaperscissors/train/paper')))\n",
        "print('total of scissors images on train directory : ', len(os.listdir('/tmp/rockpaperscissors/train/scissors')))"
      ],
      "execution_count": 89,
      "outputs": [
        {
          "output_type": "stream",
          "text": [
            "total of rock images on train directory :  639\n",
            "total of paper images on train directory :  639\n",
            "total of scissors images on train directory :  639\n"
          ],
          "name": "stdout"
        }
      ]
    },
    {
      "cell_type": "code",
      "metadata": {
        "id": "npxhNqIC2sug",
        "colab_type": "code",
        "colab": {}
      },
      "source": [
        "#remove unused directory again\n",
        "remove_unused_directory(base_dir,'/rock')\n",
        "remove_unused_directory(base_dir,'/paper')\n",
        "remove_unused_directory(base_dir,'/scissors')"
      ],
      "execution_count": 0,
      "outputs": []
    },
    {
      "cell_type": "code",
      "metadata": {
        "id": "mHKlzcmN3A3N",
        "colab_type": "code",
        "colab": {
          "base_uri": "https://localhost:8080/",
          "height": 52
        },
        "outputId": "bc74c663-0775-4421-fd20-fe5ffecf473f"
      },
      "source": [
        "#THE CODE STARTS HERE\n",
        "\n",
        "#do image augmentation\n",
        "\n",
        "import tensorflow as tf\n",
        "from tensorflow.keras.optimizers import RMSprop\n",
        "from tensorflow.keras.preprocessing.image import ImageDataGenerator\n",
        "\n",
        "train_datagen = ImageDataGenerator(\n",
        "    rescale = 1./255,\n",
        "    rotation_range = 20,\n",
        "    horizontal_flip = True,\n",
        "    shear_range = 0.2,\n",
        "    zoom_range = 0.2,\n",
        "    fill_mode = 'nearest'\n",
        ")\n",
        "\n",
        "test_datagen = ImageDataGenerator(\n",
        "    rescale = 1./255,\n",
        "    rotation_range = 20,\n",
        "    horizontal_flip = True,\n",
        "    shear_range = 0.2,\n",
        "    zoom_range = 0.2,\n",
        "    fill_mode = 'nearest'\n",
        ")\n",
        "\n",
        "train_gen = train_datagen.flow_from_directory(\n",
        "    '/tmp/rockpaperscissors/train',\n",
        "    target_size = (128,128),\n",
        "    batch_size = 32,\n",
        "    class_mode = 'categorical'\n",
        ")\n",
        "\n",
        "validation_gen = test_datagen.flow_from_directory(\n",
        "    '/tmp/rockpaperscissors/val',\n",
        "    target_size = (128,128),\n",
        "    batch_size = 32,\n",
        "    class_mode = 'categorical'\n",
        ")"
      ],
      "execution_count": 94,
      "outputs": [
        {
          "output_type": "stream",
          "text": [
            "Found 1917 images belonging to 3 classes.\n",
            "Found 216 images belonging to 3 classes.\n"
          ],
          "name": "stdout"
        }
      ]
    },
    {
      "cell_type": "code",
      "metadata": {
        "id": "iuae46hI5jHg",
        "colab_type": "code",
        "colab": {}
      },
      "source": [
        "#build model\n",
        "\n",
        "from keras.models import Sequential\n",
        "from keras.layers import Conv2D\n",
        "from keras.layers import Flatten\n",
        "from keras.layers import Dense\n",
        "from keras.layers import MaxPooling2D\n",
        "\n",
        "classifier = Sequential()\n",
        "\n",
        "#convolution\n",
        "classifier.add(Conv2D(32,(3,3), input_shape = (128,128,3), activation = 'relu'))\n",
        "\n",
        "#pooling\n",
        "classifier.add(MaxPooling2D(pool_size = (2,2)))\n",
        "\n",
        "#second convolution\n",
        "classifier.add(Conv2D(32,(3,3), activation = 'relu'))\n",
        "classifier.add(MaxPooling2D(pool_size = (2, 2)))\n",
        "\n",
        "#flattening\n",
        "classifier.add(Flatten())\n",
        "\n",
        "#full connection\n",
        "classifier.add(Dense(units = 256, activation = 'relu'))\n",
        "classifier.add(Dense(units = 1, activation = 'sigmoid'))"
      ],
      "execution_count": 0,
      "outputs": []
    },
    {
      "cell_type": "code",
      "metadata": {
        "id": "1FQ4XEoi7xKe",
        "colab_type": "code",
        "colab": {
          "base_uri": "https://localhost:8080/",
          "height": 399
        },
        "outputId": "9999dbbc-609d-4952-d8d7-2537a22b9583"
      },
      "source": [
        "#see models summary\n",
        "classifier.summary()"
      ],
      "execution_count": 101,
      "outputs": [
        {
          "output_type": "stream",
          "text": [
            "Model: \"sequential_3\"\n",
            "_________________________________________________________________\n",
            "Layer (type)                 Output Shape              Param #   \n",
            "=================================================================\n",
            "conv2d_5 (Conv2D)            (None, 126, 126, 32)      896       \n",
            "_________________________________________________________________\n",
            "max_pooling2d_5 (MaxPooling2 (None, 63, 63, 32)        0         \n",
            "_________________________________________________________________\n",
            "conv2d_6 (Conv2D)            (None, 61, 61, 32)        9248      \n",
            "_________________________________________________________________\n",
            "max_pooling2d_6 (MaxPooling2 (None, 30, 30, 32)        0         \n",
            "_________________________________________________________________\n",
            "flatten_2 (Flatten)          (None, 28800)             0         \n",
            "_________________________________________________________________\n",
            "dense_3 (Dense)              (None, 256)               7373056   \n",
            "_________________________________________________________________\n",
            "dense_4 (Dense)              (None, 1)                 257       \n",
            "=================================================================\n",
            "Total params: 7,383,457\n",
            "Trainable params: 7,383,457\n",
            "Non-trainable params: 0\n",
            "_________________________________________________________________\n"
          ],
          "name": "stdout"
        }
      ]
    },
    {
      "cell_type": "code",
      "metadata": {
        "id": "E6B_Oo-N9ueo",
        "colab_type": "code",
        "colab": {}
      },
      "source": [
        "#compiling\n",
        "classifier.compile(\n",
        "    optimizer = RMSprop(),\n",
        "    loss = 'categorical_crossentropy',\n",
        "    metrics=['accuracy']\n",
        ")"
      ],
      "execution_count": 0,
      "outputs": []
    }
  ]
}