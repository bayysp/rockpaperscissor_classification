{
  "nbformat": 4,
  "nbformat_minor": 0,
  "metadata": {
    "colab": {
      "name": "cnn-ml-submission.ipynb",
      "provenance": [],
      "toc_visible": true,
      "authorship_tag": "ABX9TyPiHmmVMxxN45+d8Ahg7g6+",
      "include_colab_link": true
    },
    "kernelspec": {
      "name": "python3",
      "display_name": "Python 3"
    },
    "accelerator": "GPU"
  },
  "cells": [
    {
      "cell_type": "markdown",
      "metadata": {
        "id": "view-in-github",
        "colab_type": "text"
      },
      "source": [
        "<a href=\"https://colab.research.google.com/github/bayysp/rockpaperscissor_classification/blob/master/cnn_ml_submission.ipynb\" target=\"_parent\"><img src=\"https://colab.research.google.com/assets/colab-badge.svg\" alt=\"Open In Colab\"/></a>"
      ]
    },
    {
      "cell_type": "code",
      "metadata": {
        "id": "QciZ3IYC43GJ",
        "colab_type": "code",
        "outputId": "6dd67cea-7980-470e-cd18-1ea5515b8ab6",
        "colab": {
          "base_uri": "https://localhost:8080/",
          "height": 228
        }
      },
      "source": [
        "# !wget --no-check-certificate \\\n",
        "#   https://dicodingacademy.blob.core.windows.net/picodiploma/ml_pemula_academy/rockpaperscissors.zip \\\n",
        "#   -O /tmp/rockpaperscissors.zip"
      ],
      "execution_count": 26,
      "outputs": [
        {
          "output_type": "stream",
          "text": [
            "--2020-05-10 20:09:29--  https://dicodingacademy.blob.core.windows.net/picodiploma/ml_pemula_academy/rockpaperscissors.zip\n",
            "Resolving dicodingacademy.blob.core.windows.net (dicodingacademy.blob.core.windows.net)... 52.239.197.36\n",
            "Connecting to dicodingacademy.blob.core.windows.net (dicodingacademy.blob.core.windows.net)|52.239.197.36|:443... connected.\n",
            "HTTP request sent, awaiting response... 200 OK\n",
            "Length: 322873683 (308M) [application/zip]\n",
            "Saving to: ‘/tmp/rockpaperscissors.zip’\n",
            "\n",
            "/tmp/rockpapersciss 100%[===================>] 307.92M  5.78MB/s    in 69s     \n",
            "\n",
            "2020-05-10 20:10:39 (4.49 MB/s) - ‘/tmp/rockpaperscissors.zip’ saved [322873683/322873683]\n",
            "\n"
          ],
          "name": "stdout"
        }
      ]
    },
    {
      "cell_type": "code",
      "metadata": {
        "id": "LgOGzh7FBa7O",
        "colab_type": "code",
        "colab": {}
      },
      "source": [
        "#do extraction to datasets zip file\n",
        "import zipfile, os\n",
        "local_zip = '/tmp/rockpaperscissors.zip'\n",
        "zip_reference = zipfile.ZipFile(local_zip,'r')\n",
        "zip_reference.extractall('/tmp')\n",
        "zip_reference.close()\n",
        "\n",
        "base_dir = '/tmp/rockpaperscissors'\n",
        "train_dir = os.path.join(base_dir, 'train')\n",
        "validation_dir = os.path.join(base_dir, 'val')"
      ],
      "execution_count": 0,
      "outputs": []
    },
    {
      "cell_type": "code",
      "metadata": {
        "id": "HSrFNxfwEtNF",
        "colab_type": "code",
        "outputId": "14273646-f7c7-4b4a-da0f-8a215b4f4d7e",
        "colab": {
          "base_uri": "https://localhost:8080/",
          "height": 35
        }
      },
      "source": [
        "os.listdir('/tmp/rockpaperscissors')"
      ],
      "execution_count": 28,
      "outputs": [
        {
          "output_type": "execute_result",
          "data": {
            "text/plain": [
              "['rock', 'scissors', 'paper', 'README_rpc-cv-images.txt', 'rps-cv-images']"
            ]
          },
          "metadata": {
            "tags": []
          },
          "execution_count": 28
        }
      ]
    },
    {
      "cell_type": "code",
      "metadata": {
        "id": "vESJ9cTbGI4r",
        "colab_type": "code",
        "colab": {}
      },
      "source": [
        "#create function to remove unused directory and unused  file\n",
        "import shutil\n",
        "def remove_unused_directory(base_dir,directory_name):\n",
        "  shutil.rmtree(os.path.join(base_dir+directory_name))\n",
        "\n",
        "def remove_unused_file(base_dir,file_name):\n",
        "  os.remove(os.path.join(base_dir,file_name))"
      ],
      "execution_count": 0,
      "outputs": []
    },
    {
      "cell_type": "code",
      "metadata": {
        "id": "C7fJ-uI-KbzL",
        "colab_type": "code",
        "colab": {}
      },
      "source": [
        "#remove unused directory\n",
        "remove_unused_directory(base_dir,'/rps-cv-images')"
      ],
      "execution_count": 0,
      "outputs": []
    },
    {
      "cell_type": "code",
      "metadata": {
        "id": "-PGYijNqLZ_N",
        "colab_type": "code",
        "colab": {}
      },
      "source": [
        "#remove unused file\n",
        "remove_unused_file(base_dir,'README_rpc-cv-images.txt')"
      ],
      "execution_count": 0,
      "outputs": []
    },
    {
      "cell_type": "code",
      "metadata": {
        "id": "a53c2M6ILdQo",
        "colab_type": "code",
        "colab": {}
      },
      "source": [
        "#create function to make data balance\n",
        "def delete_file(file_length,file_name,directory):\n",
        "  for i in range(file_length):\n",
        "    if i > 710:\n",
        "      os.remove(os.path.join(directory, file_name[i]))"
      ],
      "execution_count": 0,
      "outputs": []
    },
    {
      "cell_type": "code",
      "metadata": {
        "id": "Rwp9usXWMLGz",
        "colab_type": "code",
        "colab": {
          "base_uri": "https://localhost:8080/",
          "height": 69
        },
        "outputId": "98de174c-e92f-493d-c4f6-d88dc4af628e"
      },
      "source": [
        "#remove file to make data balance\n",
        "rock_dir = os.path.join('/tmp/rockpaperscissors/rock')\n",
        "paper_dir = os.path.join('/tmp/rockpaperscissors/paper')\n",
        "scissors_dir = os.path.join('/tmp/rockpaperscissors/scissors')\n",
        "\n",
        "rock_img = os.listdir(rock_dir)\n",
        "paper_img = os.listdir(paper_dir)\n",
        "scissors_img = os.listdir(scissors_dir)\n",
        "\n",
        "delete_file(len(os.listdir(rock_dir)), rock_img, rock_dir)\n",
        "delete_file(len(os.listdir(paper_dir)), paper_img, paper_dir)\n",
        "delete_file(len(os.listdir(scissors_dir)), scissors_img, scissors_dir)\n",
        "\n",
        "print('total of rock images : ', len(os.listdir(rock_dir)))\n",
        "print('total of paper images : ', len(os.listdir(paper_dir)))\n",
        "print('total of scissors images : ', len(os.listdir(scissors_dir)))"
      ],
      "execution_count": 41,
      "outputs": [
        {
          "output_type": "stream",
          "text": [
            "total of rock images :  711\n",
            "total of paper images :  711\n",
            "total of scissors images :  711\n"
          ],
          "name": "stdout"
        }
      ]
    },
    {
      "cell_type": "code",
      "metadata": {
        "id": "GS9nuwcsM00Z",
        "colab_type": "code",
        "colab": {
          "base_uri": "https://localhost:8080/",
          "height": 35
        },
        "outputId": "ca074a40-2688-48e6-962f-e301ddeffaac"
      },
      "source": [
        "os.listdir('/tmp/rockpaperscissors/')"
      ],
      "execution_count": 46,
      "outputs": [
        {
          "output_type": "execute_result",
          "data": {
            "text/plain": [
              "['rock', 'scissors', 'paper']"
            ]
          },
          "metadata": {
            "tags": []
          },
          "execution_count": 46
        }
      ]
    },
    {
      "cell_type": "code",
      "metadata": {
        "id": "9384TmdsULKB",
        "colab_type": "code",
        "colab": {},
        "cellView": "code"
      },
      "source": [
        "#@title Default title text\n",
        "#make a train and validation folder and move the files\n",
        "\n",
        "parent_dir = '/tmp/rockpaperscissors/'\n",
        "\n",
        "train_dir = 'train'\n",
        "validation_dir = 'val'"
      ],
      "execution_count": 0,
      "outputs": []
    },
    {
      "cell_type": "code",
      "metadata": {
        "id": "0JJqzIV7kXrb",
        "colab_type": "code",
        "colab": {}
      },
      "source": [
        "#create train directory\n",
        "train_path = os.path.join(parent_dir,train_dir)\n",
        "os.mkdir(train_path)\n",
        "print(\"directory '% s' created\" % train_dir)"
      ],
      "execution_count": 0,
      "outputs": []
    },
    {
      "cell_type": "code",
      "metadata": {
        "id": "0_VcTOYAkdI7",
        "colab_type": "code",
        "colab": {
          "base_uri": "https://localhost:8080/",
          "height": 35
        },
        "outputId": "e007f828-6cdc-4abd-adf4-ede7b0b3342a"
      },
      "source": [
        "#create validation directory\n",
        "val_path = os.path.join(parent_dir,validation_dir)\n",
        "os.mkdir(val_path)\n",
        "print(\"directory '% s' created\" % validation_dir)"
      ],
      "execution_count": 58,
      "outputs": [
        {
          "output_type": "stream",
          "text": [
            "directory 'val' created\n"
          ],
          "name": "stdout"
        }
      ]
    },
    {
      "cell_type": "code",
      "metadata": {
        "id": "EbDx4bbViWVC",
        "colab_type": "code",
        "colab": {}
      },
      "source": [
        "#create rock paper and scissors directory on train folder\n",
        "os.mkdir(os.path.join(parent_dir,'train/rock'))\n",
        "os.mkdir(os.path.join(parent_dir,'train/paper'))\n",
        "os.mkdir(os.path.join(parent_dir,'train/scissors'))\n",
        "\n",
        "print(\"directory rock paper scissors created\")"
      ],
      "execution_count": 0,
      "outputs": []
    },
    {
      "cell_type": "code",
      "metadata": {
        "id": "I6JShZwNmxZE",
        "colab_type": "code",
        "colab": {}
      },
      "source": [
        "#create rock paper and scissors directory on val folder\n",
        "os.mkdir(os.path.join(parent_dir,'val/rock'))\n",
        "os.mkdir(os.path.join(parent_dir,'val/paper'))\n",
        "os.mkdir(os.path.join(parent_dir,'val/scissors'))\n",
        "\n",
        "print(\"directory rock paper scissors created\")"
      ],
      "execution_count": 0,
      "outputs": []
    },
    {
      "cell_type": "code",
      "metadata": {
        "id": "RZW2mxETufZr",
        "colab_type": "code",
        "colab": {
          "base_uri": "https://localhost:8080/",
          "height": 69
        },
        "outputId": "e6837f54-6512-42db-d4d7-d38180708881"
      },
      "source": [
        "#create function to move file into new directory (train and val)\n",
        "def move_files_to_val():\n",
        "  for i in range(0,72):\n",
        "    try:\n",
        "      shutil.move(parent_dir+'rock/'+rock_img[i],'/tmp/rockpaperscissors/val/rock')\n",
        "      shutil.move(parent_dir+'paper/'+paper_img[i],'/tmp/rockpaperscissors/val/paper')\n",
        "      shutil.move(parent_dir+'scissors/'+scissor_img[i],'/tmp/rockpaperscissors/val/scissors')\n",
        "    except Exception as ex:\n",
        "      print(ex)\n",
        "\n",
        "# move_files_to_val()\n",
        "\n",
        "print('total of rock images on val directory : ', len(os.listdir('/tmp/rockpaperscissors/val/rock')))\n",
        "print('total of paper images on val directory : ', len(os.listdir('/tmp/rockpaperscissors/val/paper')))\n",
        "print('total of scissors images on val directory : ', len(os.listdir('/tmp/rockpaperscissors/val/scissors')))"
      ],
      "execution_count": 88,
      "outputs": [
        {
          "output_type": "stream",
          "text": [
            "total of rock images on val directory :  72\n",
            "total of paper images on val directory :  72\n",
            "total of scissors images on val directory :  72\n"
          ],
          "name": "stdout"
        }
      ]
    },
    {
      "cell_type": "code",
      "metadata": {
        "id": "KF98r69j1TpZ",
        "colab_type": "code",
        "colab": {
          "base_uri": "https://localhost:8080/",
          "height": 69
        },
        "outputId": "dcf5b52d-be99-417b-aabb-fc10e666057f"
      },
      "source": [
        "#create function to move file into new directory (train and val)\n",
        "def move_files_to_train():\n",
        "  for i in range(0,len(rock_img)):\n",
        "    try:\n",
        "      shutil.move(parent_dir+'rock/'+rock_img[i],'/tmp/rockpaperscissors/train/rock')\n",
        "    except Exception as ex:\n",
        "      print(ex)\n",
        "\n",
        "  for i in range(0,len(paper_img)):\n",
        "    try:\n",
        "      shutil.move(parent_dir+'paper/'+paper_img[i],'/tmp/rockpaperscissors/train/paper')\n",
        "    except Exception as ex:\n",
        "      print(ex)\n",
        "\n",
        "  for i in range(0,len(scissor_img)):\n",
        "    try:\n",
        "      shutil.move(parent_dir+'scissors/'+scissor_img[i],'/tmp/rockpaperscissors/train/scissors')\n",
        "    except Exception as ex:\n",
        "      print(ex)\n",
        "\n",
        "# move_files_to_train()\n",
        "\n",
        "print('total of rock images on train directory : ', len(os.listdir('/tmp/rockpaperscissors/train/rock')))\n",
        "print('total of paper images on train directory : ', len(os.listdir('/tmp/rockpaperscissors/train/paper')))\n",
        "print('total of scissors images on train directory : ', len(os.listdir('/tmp/rockpaperscissors/train/scissors')))"
      ],
      "execution_count": 89,
      "outputs": [
        {
          "output_type": "stream",
          "text": [
            "total of rock images on train directory :  639\n",
            "total of paper images on train directory :  639\n",
            "total of scissors images on train directory :  639\n"
          ],
          "name": "stdout"
        }
      ]
    },
    {
      "cell_type": "code",
      "metadata": {
        "id": "npxhNqIC2sug",
        "colab_type": "code",
        "colab": {}
      },
      "source": [
        "#remove unused directory again\n",
        "remove_unused_directory(base_dir,'/rock')\n",
        "remove_unused_directory(base_dir,'/paper')\n",
        "remove_unused_directory(base_dir,'/scissors')"
      ],
      "execution_count": 0,
      "outputs": []
    },
    {
      "cell_type": "code",
      "metadata": {
        "id": "mHKlzcmN3A3N",
        "colab_type": "code",
        "colab": {
          "base_uri": "https://localhost:8080/",
          "height": 52
        },
        "outputId": "add9b4f4-cde2-4e61-e898-194bc145762c"
      },
      "source": [
        "#THE CODE STARTS HERE\n",
        "\n",
        "#do image augmentation\n",
        "\n",
        "import tensorflow as tf\n",
        "from tensorflow.keras.optimizers import RMSprop\n",
        "from tensorflow.keras.preprocessing.image import ImageDataGenerator\n",
        "\n",
        "train_datagen = ImageDataGenerator(\n",
        "    rescale = 1./255,\n",
        "    rotation_range = 20,\n",
        "    horizontal_flip = True,\n",
        "    shear_range = 0.2,\n",
        "    zoom_range = 0.2,\n",
        "    fill_mode = 'nearest'\n",
        ")\n",
        "\n",
        "test_datagen = ImageDataGenerator(\n",
        "    rescale = 1./255\n",
        "    # rotation_range = 20,\n",
        "    # horizontal_flip = True,\n",
        "    # shear_range = 0.2,\n",
        "    # zoom_range = 0.2,\n",
        "    # fill_mode = 'nearest'\n",
        ")\n",
        "\n",
        "train_gen = train_datagen.flow_from_directory(\n",
        "    '/tmp/rockpaperscissors/train',\n",
        "    target_size = (128,128),\n",
        "    batch_size = 32,\n",
        "    class_mode = 'categorical'\n",
        ")\n",
        "\n",
        "validation_gen = test_datagen.flow_from_directory(\n",
        "    '/tmp/rockpaperscissors/val',\n",
        "    target_size = (128,128),\n",
        "    batch_size = 32,\n",
        "    class_mode = 'categorical'\n",
        ")"
      ],
      "execution_count": 147,
      "outputs": [
        {
          "output_type": "stream",
          "text": [
            "Found 1917 images belonging to 3 classes.\n",
            "Found 216 images belonging to 3 classes.\n"
          ],
          "name": "stdout"
        }
      ]
    },
    {
      "cell_type": "code",
      "metadata": {
        "id": "iuae46hI5jHg",
        "colab_type": "code",
        "colab": {}
      },
      "source": [
        "#build model\n",
        "\n",
        "from keras.models import Sequential\n",
        "from keras.layers import Conv2D\n",
        "from keras.layers import Flatten\n",
        "from keras.layers import Dense\n",
        "from keras.layers import MaxPooling2D\n",
        "\n",
        "classifier = Sequential()\n",
        "\n",
        "#convolution\n",
        "classifier.add(Conv2D(32,(3,3), input_shape = (128,128,3), activation = 'relu'))\n",
        "\n",
        "#pooling\n",
        "classifier.add(MaxPooling2D(pool_size = (2,2)))\n",
        "\n",
        "#second convolution\n",
        "classifier.add(Conv2D(32,(3,3), activation = 'relu'))\n",
        "classifier.add(MaxPooling2D(pool_size = (2, 2)))\n",
        "\n",
        "#flattening\n",
        "classifier.add(Flatten())\n",
        "\n",
        "#full connection\n",
        "classifier.add(Dense(units = 256, activation = 'relu'))\n",
        "classifier.add(Dense(units = 3, activation = 'sigmoid'))"
      ],
      "execution_count": 0,
      "outputs": []
    },
    {
      "cell_type": "code",
      "metadata": {
        "id": "1FQ4XEoi7xKe",
        "colab_type": "code",
        "colab": {
          "base_uri": "https://localhost:8080/",
          "height": 399
        },
        "outputId": "4d085f77-a58f-4e39-8c32-989c4d682d1f"
      },
      "source": [
        "#see models summary\n",
        "classifier.summary()"
      ],
      "execution_count": 149,
      "outputs": [
        {
          "output_type": "stream",
          "text": [
            "Model: \"sequential_6\"\n",
            "_________________________________________________________________\n",
            "Layer (type)                 Output Shape              Param #   \n",
            "=================================================================\n",
            "conv2d_11 (Conv2D)           (None, 126, 126, 32)      896       \n",
            "_________________________________________________________________\n",
            "max_pooling2d_11 (MaxPooling (None, 63, 63, 32)        0         \n",
            "_________________________________________________________________\n",
            "conv2d_12 (Conv2D)           (None, 61, 61, 32)        9248      \n",
            "_________________________________________________________________\n",
            "max_pooling2d_12 (MaxPooling (None, 30, 30, 32)        0         \n",
            "_________________________________________________________________\n",
            "flatten_5 (Flatten)          (None, 28800)             0         \n",
            "_________________________________________________________________\n",
            "dense_9 (Dense)              (None, 256)               7373056   \n",
            "_________________________________________________________________\n",
            "dense_10 (Dense)             (None, 3)                 771       \n",
            "=================================================================\n",
            "Total params: 7,383,971\n",
            "Trainable params: 7,383,971\n",
            "Non-trainable params: 0\n",
            "_________________________________________________________________\n"
          ],
          "name": "stdout"
        }
      ]
    },
    {
      "cell_type": "code",
      "metadata": {
        "id": "E6B_Oo-N9ueo",
        "colab_type": "code",
        "colab": {}
      },
      "source": [
        "#compiling\n",
        "classifier.compile(\n",
        "    optimizer = RMSprop(learning_rate=0.0001, decay=1e-6),\n",
        "    loss = 'categorical_crossentropy',\n",
        "    metrics=['accuracy']\n",
        ")"
      ],
      "execution_count": 0,
      "outputs": []
    },
    {
      "cell_type": "code",
      "metadata": {
        "id": "yXd05a14_Cic",
        "colab_type": "code",
        "colab": {
          "base_uri": "https://localhost:8080/",
          "height": 731
        },
        "outputId": "7637c1b6-f861-4623-a6c3-d56890667ea6"
      },
      "source": [
        "history = classifier.fit(\n",
        "    train_gen,\n",
        "    steps_per_epoch = 64,\n",
        "    epochs = 20,\n",
        "    validation_data = validation_gen,\n",
        "    validation_steps = 8,\n",
        "    verbose = 1\n",
        ")"
      ],
      "execution_count": 151,
      "outputs": [
        {
          "output_type": "stream",
          "text": [
            "Epoch 1/20\n",
            "64/64 [==============================] - 12s 183ms/step - loss: 0.9630 - accuracy: 0.5183 - val_loss: 0.6854 - val_accuracy: 0.6895\n",
            "Epoch 2/20\n",
            "64/64 [==============================] - 12s 185ms/step - loss: 0.7611 - accuracy: 0.6939 - val_loss: 0.5382 - val_accuracy: 0.7540\n",
            "Epoch 3/20\n",
            "64/64 [==============================] - 12s 186ms/step - loss: 0.6343 - accuracy: 0.7496 - val_loss: 0.5810 - val_accuracy: 0.7621\n",
            "Epoch 4/20\n",
            "64/64 [==============================] - 12s 182ms/step - loss: 0.5875 - accuracy: 0.7643 - val_loss: 0.4587 - val_accuracy: 0.7702\n",
            "Epoch 5/20\n",
            "64/64 [==============================] - 12s 182ms/step - loss: 0.5087 - accuracy: 0.7946 - val_loss: 0.2819 - val_accuracy: 0.8790\n",
            "Epoch 6/20\n",
            "64/64 [==============================] - 12s 182ms/step - loss: 0.4574 - accuracy: 0.8240 - val_loss: 0.4261 - val_accuracy: 0.8871\n",
            "Epoch 7/20\n",
            "64/64 [==============================] - 11s 179ms/step - loss: 0.4258 - accuracy: 0.8448 - val_loss: 0.1454 - val_accuracy: 0.9000\n",
            "Epoch 8/20\n",
            "64/64 [==============================] - 11s 175ms/step - loss: 0.3606 - accuracy: 0.8675 - val_loss: 0.4726 - val_accuracy: 0.8669\n",
            "Epoch 9/20\n",
            "64/64 [==============================] - 12s 182ms/step - loss: 0.3529 - accuracy: 0.8714 - val_loss: 0.2506 - val_accuracy: 0.9113\n",
            "Epoch 10/20\n",
            "64/64 [==============================] - 12s 180ms/step - loss: 0.3106 - accuracy: 0.8851 - val_loss: 0.3634 - val_accuracy: 0.8508\n",
            "Epoch 11/20\n",
            "64/64 [==============================] - 11s 177ms/step - loss: 0.2980 - accuracy: 0.8807 - val_loss: 0.2697 - val_accuracy: 0.9355\n",
            "Epoch 12/20\n",
            "64/64 [==============================] - 11s 179ms/step - loss: 0.2785 - accuracy: 0.8983 - val_loss: 0.2740 - val_accuracy: 0.9234\n",
            "Epoch 13/20\n",
            "64/64 [==============================] - 11s 179ms/step - loss: 0.2628 - accuracy: 0.9066 - val_loss: 0.1487 - val_accuracy: 0.9274\n",
            "Epoch 14/20\n",
            "64/64 [==============================] - 11s 179ms/step - loss: 0.2339 - accuracy: 0.9071 - val_loss: 0.2068 - val_accuracy: 0.9292\n",
            "Epoch 15/20\n",
            "64/64 [==============================] - 11s 175ms/step - loss: 0.2426 - accuracy: 0.9081 - val_loss: 0.1495 - val_accuracy: 0.9274\n",
            "Epoch 16/20\n",
            "64/64 [==============================] - 12s 182ms/step - loss: 0.2211 - accuracy: 0.9169 - val_loss: 0.1723 - val_accuracy: 0.9315\n",
            "Epoch 17/20\n",
            "64/64 [==============================] - 12s 183ms/step - loss: 0.2302 - accuracy: 0.9130 - val_loss: 0.1002 - val_accuracy: 0.9476\n",
            "Epoch 18/20\n",
            "64/64 [==============================] - 11s 177ms/step - loss: 0.2009 - accuracy: 0.9188 - val_loss: 0.1680 - val_accuracy: 0.9435\n",
            "Epoch 19/20\n",
            "64/64 [==============================] - 11s 177ms/step - loss: 0.1974 - accuracy: 0.9252 - val_loss: 0.2179 - val_accuracy: 0.9476\n",
            "Epoch 20/20\n",
            "64/64 [==============================] - 11s 176ms/step - loss: 0.1885 - accuracy: 0.9306 - val_loss: 0.1670 - val_accuracy: 0.9395\n"
          ],
          "name": "stdout"
        }
      ]
    },
    {
      "cell_type": "code",
      "metadata": {
        "id": "DFCH_knzFBtk",
        "colab_type": "code",
        "colab": {}
      },
      "source": [
        "accuracy = history.history['accuracy']\n",
        "loss = history.history['loss']\n",
        "val_accuracy = history.history['val_accuracy']\n",
        "val_loss = history.history['val_loss']\n",
        "epochs = range(len(accuracy))"
      ],
      "execution_count": 0,
      "outputs": []
    },
    {
      "cell_type": "code",
      "metadata": {
        "id": "QXJtvmU5HEv2",
        "colab_type": "code",
        "colab": {
          "base_uri": "https://localhost:8080/",
          "height": 295
        },
        "outputId": "f9890d37-44b8-4307-ce3c-f6ebfd0299e7"
      },
      "source": [
        "import matplotlib.pyplot as plt\n",
        "\n",
        "plt.plot(epochs,val_accuracy,'r',label='Validation Accuracy')\n",
        "plt.plot(epochs,accuracy,'b',label='Training Accuracy')\n",
        "plt.title('Model Accuracy')\n",
        "plt.xlabel('Epochs')\n",
        "plt.ylabel('Accuracy')\n",
        "plt.legend(['Val', 'Train'], loc='lower right')\n",
        "plt.show()"
      ],
      "execution_count": 153,
      "outputs": [
        {
          "output_type": "display_data",
          "data": {
            "image/png": "[encoded data removed]",
            "text/plain": [
              "<Figure size 432x288 with 1 Axes>"
            ]
          },
          "metadata": {
            "tags": [],
            "needs_background": "light"
          }
        }
      ]
    },
    {
      "cell_type": "code",
      "metadata": {
        "id": "cyZoGBavIaGL",
        "colab_type": "code",
        "colab": {
          "base_uri": "https://localhost:8080/",
          "height": 295
        },
        "outputId": "91e35b03-79c4-42e9-bf27-c5d4aa97f679"
      },
      "source": [
        "plt.plot(epochs,val_loss,'r',label='Validation Loss')\n",
        "plt.plot(epochs,loss,'b',label='Training Loss')\n",
        "plt.title('Model Loss')\n",
        "plt.legend(['Val', 'Train'], loc='upper left')\n",
        "plt.xlabel('Epochs')\n",
        "plt.ylabel('Accuracy')\n",
        "plt.show()"
      ],
      "execution_count": 154,
      "outputs": [
        {
          "output_type": "display_data",
          "data": {
            "image/png": "[encoded data removed]",
            "text/plain": [
              "<Figure size 432x288 with 1 Axes>"
            ]
          },
          "metadata": {
            "tags": [],
            "needs_background": "light"
          }
        }
      ]
    },
    {
      "cell_type": "code",
      "metadata": {
        "id": "dqPgD1f9I_cK",
        "colab_type": "code",
        "colab": {
          "resources": {
            "http://localhost:8080/nbextensions/google.colab/files.js": {
              "data": "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",
              "ok": true,
              "headers": [
                [
                  "content-type",
                  "application/javascript"
                ]
              ],
              "status": 200,
              "status_text": ""
            }
          },
          "base_uri": "https://localhost:8080/",
          "height": 395
        },
        "outputId": "76394cd1-3853-457a-e6d7-12606f69b1f5"
      },
      "source": [
        "#MAKE A PREDICTION\n",
        "\n",
        "import numpy as np\n",
        "from google.colab import files\n",
        "from keras.preprocessing import image\n",
        "import matplotlib.image as mpimg\n",
        "%matplotlib inline\n",
        " \n",
        "uploaded = files.upload()\n",
        " \n",
        "for fn in uploaded.keys():\n",
        " \n",
        "  # predicting images\n",
        "  paths = fn\n",
        "  img = image.load_img(paths, target_size=(128,128))\n",
        "  imgplot = plt.imshow(img)\n",
        "  x = image.img_to_array(img)\n",
        "  x = np.expand_dims(x, axis=0)\n",
        " \n",
        "  images = np.vstack([x])\n",
        "  classes = classifier.predict(images, batch_size=10)\n",
        "  \n",
        "  print(\"fn : \"+fn)\n",
        "  print(classes)\n",
        "\n",
        "  print(classes.shape)\n",
        "\n",
        "  if classes[0][0] == 1.0:\n",
        "    print(\"Predict : Paper\")\n",
        "  elif classes[0][1] == 1.0:\n",
        "    print(\"Predict : Rock\")\n",
        "  elif classes[0][2] == 1.0:\n",
        "    print(\"Predict : Scissor\")\n",
        "  else :\n",
        "    print(\"undetected\")"
      ],
      "execution_count": 156,
      "outputs": [
        {
          "output_type": "display_data",
          "data": {
            "text/html": [
              "\n",
              "     <input type=\"file\" id=\"files-0ba649fd-03ea-4918-9488-a97a6ab86273\" name=\"files[]\" multiple disabled />\n",
              "     <output id=\"result-0ba649fd-03ea-4918-9488-a97a6ab86273\">\n",
              "      Upload widget is only available when the cell has been executed in the\n",
              "      current browser session. Please rerun this cell to enable.\n",
              "      </output>\n",
              "      <script src=\"/nbextensions/google.colab/files.js\"></script> "
            ],
            "text/plain": [
              "<IPython.core.display.HTML object>"
            ]
          },
          "metadata": {
            "tags": []
          }
        },
        {
          "output_type": "stream",
          "text": [
            "Saving Zyzp7nBCojgQeCZs.png to Zyzp7nBCojgQeCZs.png\n",
            "fn : Zyzp7nBCojgQeCZs.png\n",
            "[[0. 0. 0.]]\n",
            "(1, 3)\n",
            "undetected\n"
          ],
          "name": "stdout"
        },
        {
          "output_type": "display_data",
          "data": {
            "image/png": "[encoded data removed]",
            "text/plain": [
              "<Figure size 432x288 with 1 Axes>"
            ]
          },
          "metadata": {
            "tags": [],
            "needs_background": "light"
          }
        }
      ]
    }
  ]
}